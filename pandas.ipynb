# -*- coding: utf-8 -*-


# 引入各种库
import pandas as pd
import numpy as np
import os as os
import time

''' 导入数据'''
#常用
pd.read_csv(os.path.join(data_path, file_name), encoding='utf-8')   #读取csv或txt

#其他
pd.read_table(filename)   #从限定分隔符的文本文件导入数据
pd.read_excel(filename)   #从Excel文件导入数据
pd.read_sql(query, connection_object)   #从SQL表/库导入数据
pd.read_json(json_string)   #从JSON格式的字符串导入数据
pd.read_html(url)   #解析URL、字符串或者HTML文件，抽取其中的tables表格
pd.read_clipboard()   #从你的粘贴板获取内容，并传给read_table()
pd.DataFrame(dict)   #从字典对象导入数据，Key是列名，Value是数据



'''导出数据'''
#常用
df.to_csv(filename)：导出数据到CSV文件
df.to_excel(filename)：导出数据到Excel文件
#不常用
df.to_sql(table_name, connection_object)：导出数据到SQL表
df.to_json(filename)：以Json格式导出数据到文本文件

'''创建测试对象'''
pd.DataFrame(np.random.rand(20,5))：创建20行5列的随机数组成的DataFrame对象
pd.Series(my_list)：从可迭代对象my_list创建一个Series对象
df.index = pd.date_range('1900/1/30', periods=df.shape[0])：增加一个日期索引




# 查看df中某列的数据类型 np.dtype
df['high_rate'].dtype
# 改变该列的数据类型为int，并生成新的列
df2 = df.astype(int)



# 操作某列的函数使用方法
def normallize(df, pd_series):
  nor_price = 16
  return nor_price
df['high_rate'] = normalize(df, df['high_rate'])

# 操作某行的函数使用方法
df['distance'] = df.apply(lambda row: haversine(row['longitude1'],row['latitude1'],row['longitude2'],row['latitude2']), axis=1)





# 常用函数1 haversine公式
from math import radians, cos, sin, asin, sqrt
 
def haversine(lon1, lat1, lon2, lat2): # 经度1，纬度1，经度2，纬度2 （十进制度数）

    # 将十进制度数转化为弧度
    lon1, lat1, lon2, lat2 = map(radians, [lon1, lat1, lon2, lat2])
 
    # haversine公式
    dlon = lon2 - lon1 
    dlat = lat2 - lat1 
    a = sin(dlat/2)**2 + cos(lat1) * cos(lat2) * sin(dlon/2)**2
    c = 2 * asin(sqrt(a)) 
    r = 6371 # 地球平均半径，单位为公里。若改为3956，则范围单位为英里
    return c * r * 1000    # 输出的单位为 m
