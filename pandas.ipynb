import pandas as pd
import numpy as np
from math import *

df = pd.read_csv('new_york_hotels.csv', encoding='cp1252')
