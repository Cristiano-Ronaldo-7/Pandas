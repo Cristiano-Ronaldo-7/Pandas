# -*- coding: utf-8 -*-
# 引入各种库
import pandas as pd
import numpy as np
import os as os
import time

''' 一、读取数据'''
#常用
pd.read_csv(os.path.join(data_path, file_name), header = 0, sep = ',', encoding='utf-8')
#参数：
filepath ：工作目录，获取当前工作目录为os.getcwd()
sep=',' ：空格为sep='\s+',sep='|',
header='infer' ：哪一行作为columns名称，一般会有header= 0
names=None ：指定columns名称
index_col=None：哪一列作为行index
usecols=None ：保留那几列
nrows=None ：需要读取的行数
encoding=None ：encoding = "utf-8",'gbk'
dtype ：制定列数据类型，如{'Name':str, 'Value':float}

#常用
pd.read_excel(filename)   #从Excel文件导入数据
#参数
io ：excel 路径
sheetname ：default 0，返回第一张表；返回多表使用sheetname=[0,1]；若sheetname=None是返回全表(dict of dataframe)
header ：default 0，指定列名行。若数据不含列名，则设定 header = None
skiprows ：省略指定行数
skip_footer ：default 0, 省略从尾部数的int行
index_col ：default None，指定列为索引列
names ：array-like, default None, 指定列名
nrows=None ：需要读取的行数
dtype ：制定列数据类型，如{'Name':str, 'Value':float}

#其他
pd.read_table(filename)   #从限定分隔符的文本文件导入数据 .dat
pd.read_sql(query, connection_object)   #从SQL表/库导入数据
pd.read_json(json_string)   #从JSON格式的字符串导入数据
pd.read_html(url)   #解析URL、字符串或者HTML文件，抽取其中的tables表格
pd.read_clipboard()   #从你的粘贴板获取内容，并传给read_table()
pd.DataFrame(dict)   #从字典对象导入数据，Key是列名，Value是数据



'''二、导出数据'''
#常用
df.to_csv(filename)：导出数据到CSV文件
#参数
- path : 目标路径  
- na_rep : string, default‘’,缺失值填充为空
- columns : sequence,选择输出的的列。 
- header : 默认为True,可以用list命名列的名字。header = False 则不输出表头
- index : 默认为True，输出index；当index=False 则不显示行索引
- encoding: 输出的编码类型
- float_format：保留小数位数，'%.2f'为保留两位小数

df.to_excel(filename)：导出数据到Excel文件
#参数 
- excel_writer : 目标路径 
- sheet_name : string, default ‘Sheet1’，指定表名称 
- na_rep : string, default‘’,缺失值填充为空
- columns : sequence,选择输出的的列。 
- header : 默认为True,可以用list命名列的名字。header = False 则不输出表头
- index : 默认为True，输出index；当index=False 则不显示行索引
- encoding: 输出的编码类型
- float_format：保留小数位数，'%.2f'为保留两位小数
#多df输出至xlsx的方法
>>> writer = pd.ExcelWriter('output.xlsx')
>>> df1.to_excel(writer,'Sheet1')
>>> df2.to_excel(writer,'Sheet2')
>>> writer.save()

#不常用
df.to_sql(table_name, connection_object)：导出数据到SQL表
df.to_json(filename)：以Json格式导出数据到文本文件

'''创建测试对象'''
pd.DataFrame(np.random.rand(20,5))：创建20行5列的随机数组成的DataFrame对象
pd.Series(my_list)：从可迭代对象my_list创建一个Series对象
df.index = pd.date_range('1900/1/30', periods=df.shape[0])：增加一个日期索引


'''查看、检查数据'''
df.head(n)：查看DataFrame对象的前n行
df.tail(n)：查看DataFrame对象的最后n行
df.shape()：查看行数和列数
df.info()：查看索引、数据类型和内存信息
df.describe()：查看数值型列的汇总统计
s.value_counts(dropna=False)：查看Series对象的唯一值和计数
df.apply(pd.Series.value_counts)：查看DataFrame对象中每一列的唯一值和计数
df['high_rate'].dtype ：查看数据的类型

'''数据选取'''
df[col]：根据列名，并以Series的形式返回列
df[[col1, col2]]：以DataFrame形式返回多列
s.iloc[0]：按位置选取数据
s.loc['index_one']：按索引选取数据
df.iloc[0,:]：返回第一行
df.iloc[0,0]：返回第一列的第一个元素

'''数据清理'''
df.columns = ['a','b','c']：重命名列名
pd.isnull()：检查DataFrame对象中的空值，并返回一个Boolean数组
pd.notnull()：检查DataFrame对象中的非空值，并返回一个Boolean数组
df.dropna()：删除所有包含空值的行
df.dropna(axis=1)：删除所有包含空值的列
df.dropna(axis=1,thresh=n)：删除所有小于n个非空值的行
df.fillna(x)：用x替换DataFrame对象中所有的空值
s.astype(float)：将Series中的数据类型更改为float类型
s.replace(1,'one')：用‘one’代替所有等于1的值s.replace([1,3],['one','three'])：用'one'代替1，用'three'代替3df.rename(columns=lambda x: x + 1)：批量更改列名df.rename(columns={'old_name': 'new_ name'})：选择性更改列名df.set_index('column_one')：更改索引列df.rename(index=lambda x: x + 1)：批量重命名索引

'''数据处理'''
df[df[col] > 0.5]：选择col列的值大于0.5的行
df.sort_values(col1)：按照列col1排序数据，默认升序排列
df.sort_values(col2, ascending=False)：按照列col1降序排列数据
df.sort_values([col1,col2], ascending=[True,False])：先按列col1升序排列，后按col2降序排列数据
df.groupby(col)：返回一个按列col进行分组的Groupby对象
df.groupby([col1,col2])：返回一个按多列进行分组的Groupby对象
df.groupby(col1)[col2]：返回按列col1进行分组后，列col2的均值
df.pivot_table(index=col1, values=[col2,col3], aggfunc=max)：创建一个按列col1进行分组，并计算col2和col3的最大值的数据透视表
df.groupby(col1).agg(np.mean)：返回按列col1分组的所有列的均值
data.apply(np.mean)：对DataFrame中的每一列应用函数
np.meandata.apply(np.max,axis=1)：对DataFrame中的每一行应用函数np.max

'''数据合并'''
df1.append(df2)：将df2中的行添加到df1的尾部
df.concat([df1, df2],axis=1)：将df2中的列添加到df1的尾部
df1.join(df2,on=col1,how='inner')：对df1的列和df2的列执行SQL形式的join

'''数据统计'''
df.describe()：查看数据值列的汇总统计
df.mean()：返回所有列的均值
df.corr()：返回列与列之间的相关系数
df.count()：返回每一列中的非空值的个数
df.max()：返回每一列的最大值
df.min()：返回每一列的最小值
df.median()：返回每一列的中位数
df.std()：返回每一列的标准差

















# 查看df中某列的数据类型 np.dtype
df['high_rate'].dtype
# 改变该列的数据类型为int，并生成新的列
df2 = df.astype(int)



# 操作某列的函数使用方法
def normallize(df, pd_series):
  nor_price = 16
  return nor_price
df['high_rate'] = normalize(df, df['high_rate'])

# 操作某行的函数使用方法
df['distance'] = df.apply(lambda row: haversine(row['longitude1'],row['latitude1'],row['longitude2'],row['latitude2']), axis=1)





# 常用函数1 haversine公式
from math import radians, cos, sin, asin, sqrt
 
def haversine(lon1, lat1, lon2, lat2): # 经度1，纬度1，经度2，纬度2 （十进制度数）

    # 将十进制度数转化为弧度
    lon1, lat1, lon2, lat2 = map(radians, [lon1, lat1, lon2, lat2])
 
    # haversine公式
    dlon = lon2 - lon1 
    dlat = lat2 - lat1 
    a = sin(dlat/2)**2 + cos(lat1) * cos(lat2) * sin(dlon/2)**2
    c = 2 * asin(sqrt(a)) 
    r = 6371 # 地球平均半径，单位为公里。若改为3956，则范围单位为英里
    return c * r * 1000    # 输出的单位为 m
